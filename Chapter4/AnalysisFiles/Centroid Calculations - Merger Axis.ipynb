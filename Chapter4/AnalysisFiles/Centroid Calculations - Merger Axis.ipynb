{
 "metadata": {
  "name": "Centroid Calculations - Merger Axis"
 },
 "nbformat": 3,
 "nbformat_minor": 0,
 "worksheets": [
  {
   "cells": [
    {
     "cell_type": "markdown",
     "metadata": {},
     "source": [
      "These calculations look at the offsets of the of galaxies and DM in the north and south subclusters with respect to the axis of the merger PA = 153 degrees."
     ]
    },
    {
     "cell_type": "code",
     "collapsed": false,
     "input": [
      "from __future__ import division\n",
      "import tools\n",
      "import pickle\n",
      "from astropy import wcs\n",
      "import pyfits"
     ],
     "language": "python",
     "metadata": {},
     "outputs": [],
     "prompt_number": 76
    },
    {
     "cell_type": "code",
     "collapsed": false,
     "input": [
      "# increase the default Notebook figure size\n",
      "figsize(10,8)"
     ],
     "language": "python",
     "metadata": {},
     "outputs": [],
     "prompt_number": 77
    },
    {
     "cell_type": "code",
     "collapsed": false,
     "input": [
      "merger_PA = 153"
     ],
     "language": "python",
     "metadata": {},
     "outputs": [],
     "prompt_number": 78
    },
    {
     "cell_type": "code",
     "collapsed": false,
     "input": [
      "theta = (360-merger_PA+90)*pi/180"
     ],
     "language": "python",
     "metadata": {},
     "outputs": [],
     "prompt_number": 79
    },
    {
     "cell_type": "code",
     "collapsed": false,
     "input": [
      "# South Subcluster"
     ],
     "language": "python",
     "metadata": {},
     "outputs": [],
     "prompt_number": 80
    },
    {
     "cell_type": "code",
     "collapsed": false,
     "input": [
      "prefix = 'GalDenVsHSTWL_pzpen'\n",
      "N_bins = 50"
     ],
     "language": "python",
     "metadata": {},
     "outputs": [],
     "prompt_number": 81
    },
    {
     "cell_type": "code",
     "collapsed": false,
     "input": [
      "# the pickled centroid arrays\n",
      "# Weak lensing centroid\n",
      "catalog1 = '/Users/dawson/SkyDrive/Research/Clusters/DLSCL09162953/WeakLensing/Center/HST/10000bootstrap/HSTwlsouth10000_centroidcoords.pickle'\n",
      "# Galaxy centroid\n",
      "catalog2 = '/Users/dawson/Git/dissertation/Chapter4/AnalysisFiles/galden_pzpen_10000_south_centroidcoords.pickle'"
     ],
     "language": "python",
     "metadata": {},
     "outputs": [],
     "prompt_number": 82
    },
    {
     "cell_type": "code",
     "collapsed": false,
     "input": [
      "# I had to create files without a 3 axis of bootstraps to be able to read the wcs header in with pywcs\n",
      "fits1 = '/Users/dawson/SkyDrive/Research/Clusters/DLSCL09162953/WeakLensing/HST/topoAnalysis/DLSCL0916_hst_ri0094ro2_noboot_15bin_pofz_imgwcsv1.fits'\n",
      "fits2 = '/Users/dawson/SkyDrive/Research/Clusters/DLSCL09162953/GalaxyDensity/specz_photoz_based/BVRzMed_higherres_v12_speczmod_noboot_numberdensity.fits'"
     ],
     "language": "python",
     "metadata": {},
     "outputs": [],
     "prompt_number": 83
    },
    {
     "cell_type": "code",
     "collapsed": false,
     "input": [
      "# unpickle the catalogs\n",
      "f = open(catalog1)\n",
      "cat1 = pickle.load(f)\n",
      "f.close()\n",
      "f = open(catalog2)\n",
      "cat2 = pickle.load(f)\n",
      "f.close()"
     ],
     "language": "python",
     "metadata": {},
     "outputs": [],
     "prompt_number": 84
    },
    {
     "cell_type": "code",
     "collapsed": false,
     "input": [
      "# assign coordinate arrays\n",
      "x1 = cat1[:,0]\n",
      "y1 = cat1[:,1]\n",
      "x2 = cat2[:,0]\n",
      "y2 = cat2[:,1]"
     ],
     "language": "python",
     "metadata": {},
     "outputs": [],
     "prompt_number": 85
    },
    {
     "cell_type": "code",
     "collapsed": false,
     "input": [
      "# read in the fits files and their headers\n",
      "hdulist1 = pyfits.open(fits1)\n",
      "hdulist2 = pyfits.open(fits2)\n",
      "# parse the WCS keywords in the primary HDU\n",
      "wcs1 = wcs.WCS(hdulist1[0].header)\n",
      "wcs2 = wcs.WCS(hdulist2[0].header)\n",
      "# Convert pixel coordinates (x,y) to world coordinates (Ra, Dec)\n",
      "# The second argument is \"origin\" -- in this case we're declaring we\n",
      "# have 1-based coordinates.\n",
      "skycord1 = wcs1.wcs_pix2sky(cat1, 1) \n",
      "skycord2 = wcs2.wcs_pix2sky(cat2, 1)\n",
      "# assign world coordinate arrays\n",
      "ra1 = skycord1[:,0]\n",
      "dec1 = skycord1[:,1]\n",
      "ra2 = skycord2[:,0]\n",
      "dec2 = skycord2[:,1]"
     ],
     "language": "python",
     "metadata": {},
     "outputs": [],
     "prompt_number": 86
    },
    {
     "cell_type": "code",
     "collapsed": false,
     "input": [
      "# Transform the coordintes of each into a uniform arcsec difference system\n",
      "ra_mean = numpy.mean(numpy.concatenate((numpy.reshape(ra1,(numpy.size(ra1),1)),numpy.reshape(ra2,(numpy.size(ra2),1)))))\n",
      "dec_mean = numpy.mean(numpy.concatenate((numpy.reshape(dec1,(numpy.size(dec1),1)),numpy.reshape(dec2,(numpy.size(dec2),1)))))"
     ],
     "language": "python",
     "metadata": {},
     "outputs": [],
     "prompt_number": 87
    },
    {
     "cell_type": "code",
     "collapsed": false,
     "input": [
      "# calculate the angular separation from the mean\n",
      "N_1 = numpy.size(ra1)\n",
      "N_2 = numpy.size(ra2)\n",
      "ra1_d = numpy.zeros(N_1)\n",
      "dec1_d = numpy.zeros(N_1)\n",
      "ra2_d = numpy.zeros(N_2)\n",
      "dec2_d = numpy.zeros(N_2)\n",
      "for i in numpy.arange(N_1):\n",
      "    ra1_d[i], dec1_d[i] = tools.angcomp(ra_mean,dec_mean,ra1[i],dec1[i])\n",
      "for i in numpy.arange(N_2):\n",
      "    ra2_d[i], dec2_d[i] = tools.angcomp(ra_mean,dec_mean,ra2[i],dec2[i])"
     ],
     "language": "python",
     "metadata": {},
     "outputs": [],
     "prompt_number": 88
    },
    {
     "cell_type": "code",
     "collapsed": false,
     "input": [
      "# convert degrees to arcsec\n",
      "ra1_d *= 60**2\n",
      "dec1_d *= 60**2\n",
      "ra2_d *= 60**2\n",
      "dec2_d *= 60**2"
     ],
     "language": "python",
     "metadata": {},
     "outputs": [],
     "prompt_number": 89
    },
    {
     "cell_type": "code",
     "collapsed": false,
     "input": [
      "# Rotate the coordinates into a principle component system such that x captures\n",
      "# the bulk of the centroid difference\n",
      "ra1_d_mean = numpy.mean(ra1_d)\n",
      "dec1_d_mean = numpy.mean(dec1_d)\n",
      "ra2_d_mean = numpy.mean(ra2_d)\n",
      "dec2_d_mean = numpy.mean(dec2_d)\n",
      "theta_pc1 = numpy.arctan((dec2_d_mean-dec1_d_mean)/(ra2_d_mean-ra1_d_mean))\n",
      "x1_p = ra1_d*numpy.cos(theta)+dec1_d*numpy.sin(theta)\n",
      "y1_p = dec1_d*numpy.cos(theta)-ra1_d*numpy.sin(theta)\n",
      "x2_p = ra2_d*numpy.cos(theta)+dec2_d*numpy.sin(theta)\n",
      "y2_p = dec2_d*numpy.cos(theta)-ra2_d*numpy.sin(theta)"
     ],
     "language": "python",
     "metadata": {},
     "outputs": [],
     "prompt_number": 90
    },
    {
     "cell_type": "code",
     "collapsed": false,
     "input": [
      "print \"South PA_pc1 = {0} degrees\".format(90-theta_pc1*180/pi)"
     ],
     "language": "python",
     "metadata": {},
     "outputs": [
      {
       "output_type": "stream",
       "stream": "stdout",
       "text": [
        "South PA_pc1 = 162.030804223 degrees\n"
       ]
      }
     ],
     "prompt_number": 91
    },
    {
     "cell_type": "code",
     "collapsed": false,
     "input": [
      "# Calculate the delx_p and dely_p arrays\n",
      "# Now it will be nice if I reduce the separation in x' to see how the\n",
      "# significance of the separation changes.\n",
      "x1_p_mean = numpy.mean(x1_p)\n",
      "y1_p_mean = numpy.mean(y1_p)\n",
      "x2_p_mean = numpy.mean(x2_p)\n",
      "y2_p_mean = numpy.mean(y2_p)\n",
      "# A positive del_xp means that the galaxies are leading the WL peak\n",
      "delx_p = x1_p - x2_p\n",
      "dely_p = y1_p - y2_p\n",
      "delr_p = numpy.sqrt(delx_p**2+dely_p**2)"
     ],
     "language": "python",
     "metadata": {},
     "outputs": [],
     "prompt_number": 92
    },
    {
     "cell_type": "code",
     "collapsed": false,
     "input": [
      "print \"South weak lensing x' mean = {0}\".format(x1_p_mean)\n",
      "print \"South galaxy x' mean = {0}\".format(x2_p_mean)"
     ],
     "language": "python",
     "metadata": {},
     "outputs": [
      {
       "output_type": "stream",
       "stream": "stdout",
       "text": [
        "South weak lensing x' mean = 10.65775592\n",
        "South galaxy x' mean = -10.6582015862\n"
       ]
      }
     ],
     "prompt_number": 93
    },
    {
     "cell_type": "code",
     "collapsed": false,
     "input": [
      "print \"South weak lensing y' mean = {0}\".format(y1_p_mean)\n",
      "print \"South galaxy y' mean = {0}\".format(y2_p_mean)"
     ],
     "language": "python",
     "metadata": {},
     "outputs": [
      {
       "output_type": "stream",
       "stream": "stdout",
       "text": [
        "South weak lensing y' mean = -1.69393525471\n",
        "South galaxy y' mean = 1.69392944035\n"
       ]
      }
     ],
     "prompt_number": 94
    },
    {
     "cell_type": "markdown",
     "metadata": {},
     "source": [
      "# North Subcluster"
     ]
    },
    {
     "cell_type": "code",
     "collapsed": false,
     "input": [
      "# the pickled centroid arrays\n",
      "# Weak lensing centroid\n",
      "catalog1 = '/Users/dawson/SkyDrive/Research/Clusters/DLSCL09162953/WeakLensing/Center/HST/10000bootstrap/HSTwlnorth10000_centroidcoords.pickle'\n",
      "# Galaxy centroid\n",
      "catalog2 = '/Users/dawson/Git/dissertation/Chapter4/AnalysisFiles/galden_pzpen_10000_north_centroidcoords.pickle'"
     ],
     "language": "python",
     "metadata": {},
     "outputs": [],
     "prompt_number": 95
    },
    {
     "cell_type": "code",
     "collapsed": false,
     "input": [
      "# unpickle the catalogs\n",
      "f = open(catalog1)\n",
      "cat1 = pickle.load(f)\n",
      "f.close()\n",
      "f = open(catalog2)\n",
      "cat2 = pickle.load(f)\n",
      "f.close()"
     ],
     "language": "python",
     "metadata": {},
     "outputs": [],
     "prompt_number": 96
    },
    {
     "cell_type": "code",
     "collapsed": false,
     "input": [
      "# assign coordinate arrays\n",
      "x1n = cat1[:,0]\n",
      "y1n = cat1[:,1]\n",
      "x2n = cat2[:,0]\n",
      "y2n = cat2[:,1]"
     ],
     "language": "python",
     "metadata": {},
     "outputs": [],
     "prompt_number": 97
    },
    {
     "cell_type": "code",
     "collapsed": false,
     "input": [
      "# read in the fits files and their headers\n",
      "hdulist1 = pyfits.open(fits1)\n",
      "hdulist2 = pyfits.open(fits2)\n",
      "# parse the WCS keywords in the primary HDU\n",
      "wcs1 = wcs.WCS(hdulist1[0].header)\n",
      "wcs2 = wcs.WCS(hdulist2[0].header)\n",
      "# Convert pixel coordinates (x,y) to world coordinates (Ra, Dec)\n",
      "# The second argument is \"origin\" -- in this case we're declaring we\n",
      "# have 1-based coordinates.\n",
      "skycord1 = wcs1.wcs_pix2sky(cat1, 1) \n",
      "skycord2 = wcs2.wcs_pix2sky(cat2, 1)\n",
      "# assign world coordinate arrays\n",
      "ra1n = skycord1[:,0]\n",
      "dec1n = skycord1[:,1]\n",
      "ra2n = skycord2[:,0]\n",
      "dec2n = skycord2[:,1]"
     ],
     "language": "python",
     "metadata": {},
     "outputs": [],
     "prompt_number": 98
    },
    {
     "cell_type": "code",
     "collapsed": false,
     "input": [
      "# Transform the coordintes of each into a uniform arcsec difference system\n",
      "ra_meann = numpy.mean(numpy.concatenate((numpy.reshape(ra1n,(numpy.size(ra1n),1)),numpy.reshape(ra2n,(numpy.size(ra2n),1)))))\n",
      "dec_meann = numpy.mean(numpy.concatenate((numpy.reshape(dec1n,(numpy.size(dec1n),1)),numpy.reshape(dec2n,(numpy.size(dec2n),1)))))"
     ],
     "language": "python",
     "metadata": {},
     "outputs": [],
     "prompt_number": 99
    },
    {
     "cell_type": "code",
     "collapsed": false,
     "input": [
      "# calculate the angular separation from the mean\n",
      "N_1n = numpy.size(ra1n)\n",
      "N_2n = numpy.size(ra2n)\n",
      "ra1_dn = numpy.zeros(N_1n)\n",
      "dec1_dn = numpy.zeros(N_1n)\n",
      "ra2_dn = numpy.zeros(N_2n)\n",
      "dec2_dn = numpy.zeros(N_2n)\n",
      "for i in numpy.arange(N_1n):\n",
      "    ra1_dn[i], dec1_dn[i] = tools.angcomp(ra_meann,dec_meann,ra1n[i],dec1n[i])\n",
      "for i in numpy.arange(N_2):\n",
      "    ra2_dn[i], dec2_dn[i] = tools.angcomp(ra_meann,dec_meann,ra2n[i],dec2n[i])"
     ],
     "language": "python",
     "metadata": {},
     "outputs": [],
     "prompt_number": 100
    },
    {
     "cell_type": "code",
     "collapsed": false,
     "input": [
      "# convert degrees to arcsec\n",
      "ra1_dn *= 60**2\n",
      "dec1_dn *= 60**2\n",
      "ra2_dn *= 60**2\n",
      "dec2_dn *= 60**2"
     ],
     "language": "python",
     "metadata": {},
     "outputs": [],
     "prompt_number": 101
    },
    {
     "cell_type": "code",
     "collapsed": false,
     "input": [
      "# Rotate the coordinates into a principle component system such that x captures\n",
      "# the bulk of the centroid difference\n",
      "ra1_d_meann = numpy.mean(ra1_dn)\n",
      "dec1_d_meann = numpy.mean(dec1_dn)\n",
      "ra2_d_meann = numpy.mean(ra2_dn)\n",
      "dec2_d_meann = numpy.mean(dec2_dn)\n",
      "theta_pc1n = numpy.arctan((dec2_d_meann-dec1_d_meann)/(ra2_d_meann-ra1_d_meann))\n",
      "x1_pn = ra1_dn*numpy.cos(theta)+dec1_dn*numpy.sin(theta)\n",
      "y1_pn = dec1_dn*numpy.cos(theta)-ra1_dn*numpy.sin(theta)\n",
      "x2_pn = ra2_dn*numpy.cos(theta)+dec2_dn*numpy.sin(theta)\n",
      "y2_pn = dec2_dn*numpy.cos(theta)-ra2_dn*numpy.sin(theta)"
     ],
     "language": "python",
     "metadata": {},
     "outputs": [],
     "prompt_number": 102
    },
    {
     "cell_type": "code",
     "collapsed": false,
     "input": [
      "print \"North PA_pc1 = {0} degrees\".format(90-theta_pc1n*180/pi)"
     ],
     "language": "python",
     "metadata": {},
     "outputs": [
      {
       "output_type": "stream",
       "stream": "stdout",
       "text": [
        "North PA_pc1 = 115.664180927 degrees\n"
       ]
      }
     ],
     "prompt_number": 103
    },
    {
     "cell_type": "code",
     "collapsed": false,
     "input": [
      "# Calculate the delx_p and dely_p arrays\n",
      "# Now it will be nice if I reduce the separation in x' to see how the\n",
      "# significance of the separation changes.\n",
      "x1_p_meann = numpy.mean(x1_pn)\n",
      "y1_p_meann = numpy.mean(y1_pn)\n",
      "x2_p_meann = numpy.mean(x2_pn)\n",
      "y2_p_meann = numpy.mean(y2_pn)\n",
      "delx_pn = x2_pn - x1_pn\n",
      "dely_pn = y2_pn - y1_pn\n",
      "delr_pn = numpy.sqrt(delx_pn**2+dely_pn**2)"
     ],
     "language": "python",
     "metadata": {},
     "outputs": [],
     "prompt_number": 104
    },
    {
     "cell_type": "code",
     "collapsed": false,
     "input": [
      "print \"North weak lensing x' mean = {0}\".format(x1_p_meann)\n",
      "print \"North galaxy x' mean = {0}\".format(x2_p_meann)"
     ],
     "language": "python",
     "metadata": {},
     "outputs": [
      {
       "output_type": "stream",
       "stream": "stdout",
       "text": [
        "North weak lensing x' mean = 3.71784344234\n",
        "North galaxy x' mean = -3.71779397979\n"
       ]
      }
     ],
     "prompt_number": 105
    },
    {
     "cell_type": "code",
     "collapsed": false,
     "input": [
      "print \"North weak lensing y' mean = {0}\".format(y1_p_meann)\n",
      "print \"North galaxy y' mean = {0}\".format(y2_p_meann)"
     ],
     "language": "python",
     "metadata": {},
     "outputs": [
      {
       "output_type": "stream",
       "stream": "stdout",
       "text": [
        "North weak lensing y' mean = 2.83593267695\n",
        "North galaxy y' mean = -2.8358547178\n"
       ]
      }
     ],
     "prompt_number": 106
    },
    {
     "cell_type": "markdown",
     "metadata": {},
     "source": [
      "# North and South Joint Analysis"
     ]
    },
    {
     "cell_type": "code",
     "collapsed": false,
     "input": [
      "#Combine the north and south delx_p\n",
      "delx_p_NS = delx_p+delx_pn"
     ],
     "language": "python",
     "metadata": {},
     "outputs": [],
     "prompt_number": 108
    },
    {
     "cell_type": "code",
     "collapsed": false,
     "input": [
      "fig = figure()\n",
      "h,temp,temp = hist(delx_p_NS,bins=100)\n",
      "xlabel(\"North $\\Delta x'$ + South $\\Delta x'$\")"
     ],
     "language": "python",
     "metadata": {},
     "outputs": [
      {
       "output_type": "pyout",
       "prompt_number": 113,
       "text": [
        "<matplotlib.text.Text at 0x112a370d0>"
       ]
      },
      {
       "output_type": "display_data",
       "png": "[encoded data removed]",
       "text": [
        "<matplotlib.figure.Figure at 0x111a8dc90>"
       ]
      }
     ],
     "prompt_number": 113
    },
    {
     "cell_type": "code",
     "collapsed": false,
     "input": [
      "# Now estimate the percent confidence as a function of delx_p and dely_p\n",
      "# Order the del's in ascending order\n",
      "idx_x_NS = numpy.argsort(delx_p_NS)\n",
      "delx_p_NS = delx_p_NS[idx_x_NS]"
     ],
     "language": "python",
     "metadata": {},
     "outputs": [],
     "prompt_number": 114
    },
    {
     "cell_type": "code",
     "collapsed": false,
     "input": [
      "# Create the cumulative step plot array\n",
      "N_del_NS = numpy.size(delx_p_NS)\n",
      "S_NS = numpy.arange(N_del_NS,0,-1)/N_del_NS"
     ],
     "language": "python",
     "metadata": {},
     "outputs": [],
     "prompt_number": 115
    },
    {
     "cell_type": "code",
     "collapsed": false,
     "input": [
      "# Create the percent confidence plots\n",
      "lw = 2\n",
      "fig = pylab.figure()\n",
      "pylab.step(delx_p_NS,S_NS)\n",
      "#pylab.xlim((0,1))\n",
      "pylab.ylim((0,1))\n",
      "pylab.plot((0,0),(0,1),label='zero')\n",
      "pylab.plot((6.3,6.3),pylab.ylim(),color='r',lw=lw,linestyle='-',label='$M_{gas}=5x10^{12}$')\n",
      "pylab.plot((7.6,7.6),pylab.ylim(),color='r',lw=lw,linestyle='--',label='$M_{gas}=1x10^{13}$')\n",
      "pylab.plot((10.2,10.2),pylab.ylim(),color='r',lw=lw,linestyle='-.',label='$M_{gas}=2.1x10^{13}$')\n",
      "pylab.plot((3.4,3.4),pylab.ylim(),color='0.7',lw=lw,linestyle=':',label='$M_{gas}=0$')\n",
      "pylab.legend(loc=0)\n",
      "pylab.xlabel(\"$\\Delta x'$ (arcsec)\")\n",
      "pylab.ylabel(\"Percent Confidence $>\\Delta x'$\")\n",
      "#filename = prefix+'_delxPC'\n",
      "#pylab.savefig(filename)"
     ],
     "language": "python",
     "metadata": {},
     "outputs": [
      {
       "output_type": "pyout",
       "prompt_number": 116,
       "text": [
        "<matplotlib.text.Text at 0x112ace110>"
       ]
      },
      {
       "output_type": "display_data",
       "png": "[encoded data removed]",
       "text": [
        "<matplotlib.figure.Figure at 0x112a53050>"
       ]
      }
     ],
     "prompt_number": 116
    },
    {
     "cell_type": "code",
     "collapsed": false,
     "input": [
      "# Create the percent confidence plots\n",
      "lw = 2\n",
      "fs = 18\n",
      "fig = pylab.figure()\n",
      "ax = fig.add_subplot(111)\n",
      "pylab.plot(delx_p_NS,S_NS,'b',lw=lw,linestyle='steps-',label='Confidence Curve')\n",
      "pylab.plot((7.6+1.2,7.6+1.2),pylab.ylim(),color='r',lw=lw,linestyle='--',label='$M_{subcluster DM}+M_{gas}$')\n",
      "ax.fill_between((3.4+0.7,9.4+1.3),0.5,1,alpha=0.2,facecolor='r',label='Current')\n",
      "#ax.fill_between((5.4,8.0),0.8,1,alpha=0.2,facecolor='r',label='Proposed')\n",
      "pylab.xlim((0,11))\n",
      "pylab.ylim((0.50,1))\n",
      "pylab.legend(loc='lower left')\n",
      "pylab.xlabel(\"Centroid Offset $\\Delta x'_{North}+\\Delta x'_{South}$ (arcsec)\",fontsize=fs)\n",
      "pylab.ylabel(\"Confidence that $\\sigma_{DM}>0$\\n for expected offset $\\Delta x'_{North}+\\Delta x'_{South}$\",fontsize=fs,multialignment='center')\n",
      "filename = 'NorthSouthJointAnalysis_delxPC'\n",
      "pylab.savefig(filename)"
     ],
     "language": "python",
     "metadata": {},
     "outputs": [
      {
       "output_type": "display_data",
       "png": "[encoded data removed]",
       "text": [
        "<matplotlib.figure.Figure at 0x11335ee50>"
       ]
      }
     ],
     "prompt_number": 125
    },
    {
     "cell_type": "code",
     "collapsed": false,
     "input": [],
     "language": "python",
     "metadata": {},
     "outputs": []
    }
   ],
   "metadata": {}
  }
 ]
}